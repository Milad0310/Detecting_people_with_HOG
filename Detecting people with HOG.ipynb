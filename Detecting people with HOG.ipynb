{
 "cells": [
  {
   "cell_type": "code",
   "execution_count": 1,
   "id": "8525b5bb",
   "metadata": {},
   "outputs": [],
   "source": [
    "import cv2\n",
    "from skimage.transform import resize"
   ]
  },
  {
   "cell_type": "code",
   "execution_count": 2,
   "id": "9bb4a5f4",
   "metadata": {},
   "outputs": [],
   "source": [
    "img = cv2.imread(\"Untitled.jpg\")\n",
    "(height, width) = img.shape[:2]\n",
    " # find the width to height ratio\n",
    "ratio = width / float(width)\n",
    "#resize the image according to the width to height ratio\n",
    "img = cv2.resize(img, (400, width*int(ratio)))"
   ]
  },
  {
   "cell_type": "code",
   "execution_count": 3,
   "id": "6f869642",
   "metadata": {},
   "outputs": [],
   "source": [
    "hog = cv2.HOGDescriptor()\n",
    "hog.setSVMDetector(cv2.HOGDescriptor_getDefaultPeopleDetector())"
   ]
  },
  {
   "cell_type": "code",
   "execution_count": 4,
   "id": "e66c001b",
   "metadata": {},
   "outputs": [],
   "source": [
    "found_rects, found_weights = hog.detectMultiScale(img, winStride=(4, 4), padding=(10, 10), scale=1.02)"
   ]
  },
  {
   "cell_type": "code",
   "execution_count": 5,
   "id": "4c8b9c9d",
   "metadata": {},
   "outputs": [
    {
     "data": {
      "text/plain": [
       "-1"
      ]
     },
     "execution_count": 5,
     "metadata": {},
     "output_type": "execute_result"
    }
   ],
   "source": [
    "for ri, r in enumerate(found_rects):\n",
    "    x, y, w, h = r\n",
    "    cv2.rectangle(img, (x, y), (x + w, y + h), (255, 0, 255), 2)\n",
    "    text = '%.2f' % found_weights[ri]\n",
    "    cv2.putText(img, text, (x, y),\n",
    "    cv2.FONT_HERSHEY_SIMPLEX, 1, (0, 255, 0), 1)\n",
    "    \n",
    "cv2.imshow('Women in Hayfield Detected', img)\n",
    "cv2.imwrite('farmer.jpg', img)\n",
    "cv2.waitKey(0)"
   ]
  }
 ],
 "metadata": {
  "kernelspec": {
   "display_name": "Python 3 (ipykernel)",
   "language": "python",
   "name": "python3"
  },
  "language_info": {
   "codemirror_mode": {
    "name": "ipython",
    "version": 3
   },
   "file_extension": ".py",
   "mimetype": "text/x-python",
   "name": "python",
   "nbconvert_exporter": "python",
   "pygments_lexer": "ipython3",
   "version": "3.9.13"
  }
 },
 "nbformat": 4,
 "nbformat_minor": 5
}
